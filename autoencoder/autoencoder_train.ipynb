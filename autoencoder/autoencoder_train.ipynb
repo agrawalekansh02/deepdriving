{
 "cells": [
  {
   "cell_type": "markdown",
   "metadata": {},
   "source": [
    "# VAE Training"
   ]
  },
  {
   "cell_type": "code",
   "execution_count": null,
   "metadata": {},
   "outputs": [],
   "source": [
    "import numpy as np\n",
    "import pandas as pd\n",
    "from tqdm import tqdm\n",
    "import matplotlib.pyplot as plt\n",
    "import torch, wandb, cv2\n",
    "import torch.nn as nn\n",
    "import torch.nn.functional as F\n",
    "import torch.optim as optim\n",
    "from torch.utils.data import DataLoader\n",
    "from torchsummary import summary\n",
    "from vae import VAE, loss_fn\n",
    "from camvid import *"
   ]
  },
  {
   "cell_type": "code",
   "execution_count": null,
   "metadata": {},
   "outputs": [],
   "source": [
    "# data\n",
    "SHAPE = (66, 200)\n",
    "batch_size = 16\n",
    "IMAGE_PATH = \"../CamVid/train/*.png\"\n",
    "VAL_PATH = \"../CamVid/val/*.png\"\n",
    "\n",
    "train_dataset = CamVidDataset(SHAPE, IMAGE_PATH)\n",
    "trainloader = DataLoader(train_dataset, batch_size=batch_size, num_workers=2)\n",
    "\n",
    "val_dataset = CamVidDataset(SHAPE, VAL_PATH)\n",
    "val_loader = DataLoader(val_dataset, batch_size=batch_size, num_workers=2)"
   ]
  },
  {
   "cell_type": "code",
   "execution_count": null,
   "metadata": {},
   "outputs": [],
   "source": [
    "img = cv2.imread(\"../CamVid/train/0001TP_009240.png\")\n",
    "img = cv2.cvtColor(img,cv2.COLOR_BGR2RGB)\n",
    "plt.imshow(img)"
   ]
  },
  {
   "cell_type": "code",
   "execution_count": null,
   "metadata": {},
   "outputs": [],
   "source": [
    "plt.imshow(np.moveaxis(train_dataset[0][0].detach().numpy(), 0, -1))\n",
    "plt.show()"
   ]
  },
  {
   "cell_type": "code",
   "execution_count": null,
   "metadata": {},
   "outputs": [],
   "source": [
    "# config\n",
    "torch.cuda.empty_cache()\n",
    "device = torch.device(\"cuda:0\" if torch.cuda.is_available() else \"cpu\")\n",
    "print(f\"using dev {device}\")\n",
    "model = VAE(latent=25).to(device)\n",
    "encoder_loss = nn.KLDivLoss()\n",
    "decoder_loss = nn.MSELoss()\n",
    "optimizer = optim.Adam(model.parameters(), lr=0.0001)\n",
    "print(summary(model, (3, 66, 200)))\n",
    "\n",
    "# init wandb\n",
    "wandb.init(project=\"deepdriving-autoencoder\")\n",
    "config = wandb.config\n",
    "\n",
    "# hyperparamters\n",
    "config.batch_size = batch_size\n",
    "config.epochs = 30\n",
    "config.architecture = \"vae\"\n",
    "config.activation = \"relu\"\n",
    "config.input_size = SHAPE"
   ]
  },
  {
   "cell_type": "code",
   "execution_count": null,
   "metadata": {},
   "outputs": [],
   "source": [
    "# training + logging loop\n",
    "wandb.watch(model, log=\"all\")\n",
    "\n",
    "for epoch in range(config.epochs): \n",
    "    with tqdm(trainloader, unit=\"batch\") as tepoch:\n",
    "\n",
    "        for data, target in tepoch:\n",
    "            tepoch.set_description(f\"Epoch {epoch+1}\")\n",
    "            \n",
    "            data, target = data.to(device), target.to(device)\n",
    "            optimizer.zero_grad()\n",
    "\n",
    "            # encode -> kl loss -> decode -> mse loss\n",
    "            x_hat, z, p, q = model(data)\n",
    "            x_hat, z, p, q = x_hat.to(device), z.to(device), p.to(device), q.to(device)\n",
    "            loss, kl_loss, mse_loss = loss_fn(x_hat, target, p, q)\n",
    "            loss.backward()\n",
    "            optimizer.step()\n",
    "\n",
    "            # print statistics\n",
    "            tepoch.set_postfix(kl_loss=kl_loss, mse_loss=mse_loss)\n",
    "\n",
    "        # run inference\n",
    "\n",
    "        # log\n",
    "        wandb.log({\n",
    "            \"epoch\": epoch+1,\n",
    "            \"kl_loss\": kl_loss,\n",
    "            \"mse_loss\": mse_loss\n",
    "        })\n",
    "\n",
    "wandb.finish()\n",
    "print('Finished Training')"
   ]
  }
 ],
 "metadata": {
  "kernelspec": {
   "display_name": "Python 3.9.12 ('torch39')",
   "language": "python",
   "name": "python3"
  },
  "language_info": {
   "codemirror_mode": {
    "name": "ipython",
    "version": 3
   },
   "file_extension": ".py",
   "mimetype": "text/x-python",
   "name": "python",
   "nbconvert_exporter": "python",
   "pygments_lexer": "ipython3",
   "version": "3.9.12"
  },
  "orig_nbformat": 4,
  "vscode": {
   "interpreter": {
    "hash": "6c173af3f897aae50989b88c2c053f9be2d0ba349e623fe7991100b9b0a25dca"
   }
  }
 },
 "nbformat": 4,
 "nbformat_minor": 2
}
