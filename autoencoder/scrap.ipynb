{
 "cells": [
  {
   "cell_type": "code",
   "execution_count": 1,
   "metadata": {},
   "outputs": [
    {
     "name": "stderr",
     "output_type": "stream",
     "text": [
      "/home/hexagon/miniconda3/envs/torch39/lib/python3.9/site-packages/tqdm/auto.py:22: TqdmWarning: IProgress not found. Please update jupyter and ipywidgets. See https://ipywidgets.readthedocs.io/en/stable/user_install.html\n",
      "  from .autonotebook import tqdm as notebook_tqdm\n"
     ]
    }
   ],
   "source": [
    "import torch\n",
    "import torch.nn as nn\n",
    "import torch.nn.functional as F\n",
    "from torchsummary import summary"
   ]
  },
  {
   "cell_type": "code",
   "execution_count": 2,
   "metadata": {},
   "outputs": [],
   "source": [
    "class VAE(nn.Module):\n",
    "    def __init__(self, latent):\n",
    "        super(VAE, self).__init__()\n",
    "        self.k = latent\n",
    "        self.mu = nn.Linear(2*self.k, self.k)\n",
    "        self.var = nn.Linear(2*self.k, self.k)\n",
    "\n",
    "        encoder = []\n",
    "        for i, o in [(3, 24), (24, 36)]:\n",
    "            encoder.append(nn.Conv2d(i, o, kernel_size=5, stride=2, padding=0))\n",
    "            encoder.append(nn.ReLU())\n",
    "        for i, o in [(36, 48), (48, 64), (64, 64)]:\n",
    "            if i == 36:\n",
    "                encoder.append(nn.Conv2d(i, o, kernel_size=5, stride=2, padding=0))\n",
    "            else:\n",
    "                encoder.append(nn.Conv2d(i, o, kernel_size=3, stride=1, padding=0))\n",
    "            encoder.append(nn.ReLU())\n",
    "        encoder.append(nn.Flatten())\n",
    "        for i, o in [(1152, 1000), (1000, 100), (100, 2*self.k)]:\n",
    "            encoder.append(nn.Linear(i, o))\n",
    "            if i == 1152 or i == 1000:\n",
    "                encoder.append(nn.ReLU())\n",
    "        self.encoder = nn.Sequential(*encoder)\n",
    "\n",
    "        decoder = []\n",
    "        for i, o in [(self.k, 2*self.k), (2*self.k, 100), (100, 1000), (1000, 1152)]:\n",
    "            decoder.append(nn.Linear(i, o))\n",
    "            if i == 100 or i == 1000:\n",
    "                decoder.append(nn.ReLU())\n",
    "        decoder.append(nn.Unflatten(1, (64, 1, 18)))\n",
    "        for i, o in [(64, 64), (64, 48), (48, 36)]:\n",
    "            if i == 36:\n",
    "                decoder.append(nn.ConvTranspose2d(i, o, kernel_size=5, stride=2))\n",
    "            else:\n",
    "                decoder.append(nn.ConvTranspose2d(i, o, kernel_size=3, stride=1))\n",
    "            decoder.append(nn.ReLU())\n",
    "        for i, o in [(36, 24), (24, 3)]:\n",
    "            decoder.append(nn.ConvTranspose2d(i, o, kernel_size=5, stride=2))\n",
    "            decoder.append(nn.ReLU())\n",
    "        self.decoder = nn.Sequential(*decoder)\n",
    "\n",
    "    def encode(self, x):\n",
    "        return self.encoder(x)\n",
    "\n",
    "    def decode(self, x):\n",
    "        return self.decoder(x)\n",
    "\n",
    "    def run_sample(self, mu, logvar):\n",
    "        std = torch.exp(logvar/2)\n",
    "        p = torch.distributions.Normal(torch.zeros_like(mu), torch.ones_like(std))\n",
    "        q = torch.distributions.Normal(mu, std)\n",
    "        z = q.rsample()\n",
    "        return p, q, z\n",
    "\n",
    "    def forward(self, x):\n",
    "        x = self.encode(x)\n",
    "        # return x\n",
    "        mu, logvar = self.mu(x), self.var(x)\n",
    "        p, q, z = self.run_sample(mu, logvar)\n",
    "        return self.decode(z)\n",
    "        # return self.decode(z), z, p, q\n",
    "    \n",
    "def loss_fn(y, x_hat, p, q):\n",
    "    recon_loss = F.mse_loss(x_hat, y, reduction=\"mean\")\n",
    "\n",
    "    kl = torch.distributions.kl_divergence(q, p)\n",
    "    kl = kl.mean()\n",
    "\n",
    "    loss = kl * 0.4 + recon_loss\n",
    "    return loss, kl, recon_loss"
   ]
  },
  {
   "cell_type": "code",
   "execution_count": 3,
   "metadata": {},
   "outputs": [
    {
     "name": "stdout",
     "output_type": "stream",
     "text": [
      "----------------------------------------------------------------\n",
      "        Layer (type)               Output Shape         Param #\n",
      "================================================================\n",
      "            Conv2d-1           [-1, 24, 31, 98]           1,824\n",
      "              ReLU-2           [-1, 24, 31, 98]               0\n",
      "            Conv2d-3           [-1, 36, 14, 47]          21,636\n",
      "              ReLU-4           [-1, 36, 14, 47]               0\n",
      "            Conv2d-5            [-1, 48, 5, 22]          43,248\n",
      "              ReLU-6            [-1, 48, 5, 22]               0\n",
      "            Conv2d-7            [-1, 64, 3, 20]          27,712\n",
      "              ReLU-8            [-1, 64, 3, 20]               0\n",
      "            Conv2d-9            [-1, 64, 1, 18]          36,928\n",
      "             ReLU-10            [-1, 64, 1, 18]               0\n",
      "          Flatten-11                 [-1, 1152]               0\n",
      "           Linear-12                 [-1, 1000]       1,153,000\n",
      "             ReLU-13                 [-1, 1000]               0\n",
      "           Linear-14                  [-1, 100]         100,100\n",
      "             ReLU-15                  [-1, 100]               0\n",
      "           Linear-16                   [-1, 50]           5,050\n",
      "           Linear-17                   [-1, 25]           1,275\n",
      "           Linear-18                   [-1, 25]           1,275\n",
      "           Linear-19                   [-1, 50]           1,300\n",
      "           Linear-20                  [-1, 100]           5,100\n",
      "           Linear-21                 [-1, 1000]         101,000\n",
      "             ReLU-22                 [-1, 1000]               0\n",
      "           Linear-23                 [-1, 1152]       1,153,152\n",
      "             ReLU-24                 [-1, 1152]               0\n",
      "        Unflatten-25            [-1, 64, 1, 18]               0\n",
      "  ConvTranspose2d-26            [-1, 64, 3, 20]          36,928\n",
      "             ReLU-27            [-1, 64, 3, 20]               0\n",
      "  ConvTranspose2d-28            [-1, 48, 5, 22]          27,696\n",
      "             ReLU-29            [-1, 48, 5, 22]               0\n",
      "  ConvTranspose2d-30            [-1, 36, 7, 24]          15,588\n",
      "             ReLU-31            [-1, 36, 7, 24]               0\n",
      "  ConvTranspose2d-32           [-1, 24, 17, 51]          21,624\n",
      "             ReLU-33           [-1, 24, 17, 51]               0\n",
      "  ConvTranspose2d-34           [-1, 3, 37, 105]           1,803\n",
      "             ReLU-35           [-1, 3, 37, 105]               0\n",
      "================================================================\n",
      "Total params: 2,756,239\n",
      "Trainable params: 2,756,239\n",
      "Non-trainable params: 0\n",
      "----------------------------------------------------------------\n",
      "Input size (MB): 0.15\n",
      "Forward/backward pass size (MB): 2.43\n",
      "Params size (MB): 10.51\n",
      "Estimated Total Size (MB): 13.09\n",
      "----------------------------------------------------------------\n",
      "None\n"
     ]
    }
   ],
   "source": [
    "torch.cuda.empty_cache()\n",
    "device = torch.device(\"cuda:0\" if torch.cuda.is_available() else \"cpu\")\n",
    "model = VAE(latent=25).to(device)\n",
    "print(summary(model, (3, 66, 200)))"
   ]
  }
 ],
 "metadata": {
  "kernelspec": {
   "display_name": "Python 3.9.12 ('torch39')",
   "language": "python",
   "name": "python3"
  },
  "language_info": {
   "codemirror_mode": {
    "name": "ipython",
    "version": 3
   },
   "file_extension": ".py",
   "mimetype": "text/x-python",
   "name": "python",
   "nbconvert_exporter": "python",
   "pygments_lexer": "ipython3",
   "version": "3.9.12"
  },
  "orig_nbformat": 4,
  "vscode": {
   "interpreter": {
    "hash": "6c173af3f897aae50989b88c2c053f9be2d0ba349e623fe7991100b9b0a25dca"
   }
  }
 },
 "nbformat": 4,
 "nbformat_minor": 2
}
